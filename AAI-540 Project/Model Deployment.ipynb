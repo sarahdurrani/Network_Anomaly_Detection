{
 "cells": [
  {
   "cell_type": "markdown",
   "id": "74cd1536-dc86-4e23-9d19-4552a4ab0c5c",
   "metadata": {},
   "source": [
    "# Deploy XGBOOOST Model in SageMaker"
   ]
  },
  {
   "cell_type": "markdown",
   "id": "5450b51d-d731-4ec1-894b-32335a931d6f",
   "metadata": {},
   "source": [
    "## Load and Use the Model Locally "
   ]
  },
  {
   "cell_type": "code",
   "execution_count": 1,
   "id": "df4ab874-a72d-46c3-9c5f-7f2003c43cc0",
   "metadata": {},
   "outputs": [
    {
     "name": "stdout",
     "output_type": "stream",
     "text": [
      "Requirement already satisfied: flask in /opt/conda/lib/python3.11/site-packages (3.1.0)\n",
      "Requirement already satisfied: numpy in /opt/conda/lib/python3.11/site-packages (1.26.4)\n",
      "Requirement already satisfied: xgboost in /opt/conda/lib/python3.11/site-packages (2.1.4)\n",
      "Requirement already satisfied: pandas in /opt/conda/lib/python3.11/site-packages (2.2.3)\n",
      "Requirement already satisfied: Werkzeug>=3.1 in /opt/conda/lib/python3.11/site-packages (from flask) (3.1.3)\n",
      "Requirement already satisfied: Jinja2>=3.1.2 in /opt/conda/lib/python3.11/site-packages (from flask) (3.1.5)\n",
      "Requirement already satisfied: itsdangerous>=2.2 in /opt/conda/lib/python3.11/site-packages (from flask) (2.2.0)\n",
      "Requirement already satisfied: click>=8.1.3 in /opt/conda/lib/python3.11/site-packages (from flask) (8.1.8)\n",
      "Requirement already satisfied: blinker>=1.9 in /opt/conda/lib/python3.11/site-packages (from flask) (1.9.0)\n",
      "Requirement already satisfied: scipy in /opt/conda/lib/python3.11/site-packages (from xgboost) (1.15.1)\n",
      "Requirement already satisfied: python-dateutil>=2.8.2 in /opt/conda/lib/python3.11/site-packages (from pandas) (2.9.0.post0)\n",
      "Requirement already satisfied: pytz>=2020.1 in /opt/conda/lib/python3.11/site-packages (from pandas) (2024.1)\n",
      "Requirement already satisfied: tzdata>=2022.7 in /opt/conda/lib/python3.11/site-packages (from pandas) (2025.1)\n",
      "Requirement already satisfied: MarkupSafe>=2.0 in /opt/conda/lib/python3.11/site-packages (from Jinja2>=3.1.2->flask) (3.0.2)\n",
      "Requirement already satisfied: six>=1.5 in /opt/conda/lib/python3.11/site-packages (from python-dateutil>=2.8.2->pandas) (1.17.0)\n",
      "Note: you may need to restart the kernel to use updated packages.\n"
     ]
    }
   ],
   "source": [
    "pip install flask numpy xgboost pandas\n"
   ]
  },
  {
   "cell_type": "code",
   "execution_count": 7,
   "id": "39261df4-3d0c-44a3-bb3f-8369d5a77212",
   "metadata": {},
   "outputs": [
    {
     "name": "stdout",
     "output_type": "stream",
     "text": [
      "{'message': 'Prediction successful!', 'prediction': 1}\n"
     ]
    }
   ],
   "source": [
    "import requests\n",
    "import json\n",
    "\n",
    "# Define the API URL\n",
    "url = \"http://127.0.0.1:6000/predict\"\n",
    "\n",
    "data = {\n",
    "    \"features\": [\n",
    "        49188.0, 4.0, 2.0, 0.0, 12.0, 0.0, 6.0, 6.0, 6.0, 0.0, \n",
    "        0.0, 0.0, 0.0, 0.0, 3000000.0, 500000.0, 4.0, 0.0, 4.0, 4.0, \n",
    "        4.0, 4.0, 0.0, 4.0, 4.0, 0.0, 0.0, 0.0, 0.0, 0.0, 0.0, 0.0, \n",
    "        0.0, 0.0, 40.0, 0.0, 500000.0, 0.0, 6.0, 6.0, 6.0, 0.0, 0.0, \n",
    "        0.0, 0.0, 0.0, 0.0, 1.0, 1.0, 0.0, 0.0, 0.0, 9.0, 6.0, 0.0, \n",
    "        40.0, 0.0, 0.0, 0.0, 0.0, 0.0, 0.0, 2.0, 12.0, 0.0, 0.0, \n",
    "        329.0, -1.0, 1.0, 20.0, 0.0, \n",
    "        0.0, 0.0, 0.0, 0.0  \n",
    "    ]\n",
    "}\n",
    "\n",
    "\n",
    "# Send POST request\n",
    "response = requests.post(url, json=data)\n",
    "\n",
    "# Print the result\n",
    "print(response.json())\n"
   ]
  }
 ],
 "metadata": {
  "kernelspec": {
   "display_name": "Python 3 (ipykernel)",
   "language": "python",
   "name": "python3"
  },
  "language_info": {
   "codemirror_mode": {
    "name": "ipython",
    "version": 3
   },
   "file_extension": ".py",
   "mimetype": "text/x-python",
   "name": "python",
   "nbconvert_exporter": "python",
   "pygments_lexer": "ipython3",
   "version": "3.11.11"
  }
 },
 "nbformat": 4,
 "nbformat_minor": 5
}
