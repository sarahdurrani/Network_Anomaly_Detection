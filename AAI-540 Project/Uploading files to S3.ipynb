{
 "cells": [
  {
   "cell_type": "markdown",
   "id": "6f38227f-5d2e-40a8-8cab-f9656596cfbd",
   "metadata": {},
   "source": [
    "# Creating S3 Bucket"
   ]
  },
  {
   "cell_type": "code",
   "execution_count": 2,
   "id": "14ce0c72-e634-414c-abeb-01db26123da6",
   "metadata": {},
   "outputs": [
    {
     "name": "stdout",
     "output_type": "stream",
     "text": [
      "S3 bucket 'network-anomaly-dataset-001aefd6' created successfully.\n"
     ]
    }
   ],
   "source": [
    "import boto3\n",
    "import uuid\n",
    "\n",
    "# Generate a unique S3 bucket name\n",
    "bucket_name = f\"network-anomaly-dataset-{uuid.uuid4().hex[:8]}\"  \n",
    "\n",
    "# Initialize S3 client\n",
    "s3 = boto3.client(\"s3\")  \n",
    "\n",
    "# Create the S3 bucket\n",
    "try:\n",
    "    s3.create_bucket(Bucket=bucket_name)  # No LocationConstraint\n",
    "    print(f\"S3 bucket '{bucket_name}' created successfully.\")\n",
    "except Exception as e:\n",
    "    print(f\"Error creating S3 bucket: {str(e)}\")\n",
    "\n"
   ]
  },
  {
   "cell_type": "markdown",
   "id": "bcea6b4f-bc2d-459c-9d7e-fcb0b76004dd",
   "metadata": {},
   "source": [
    "# Uploading Files to S3 Bucket"
   ]
  },
  {
   "cell_type": "code",
   "execution_count": 8,
   "id": "de71a7b9-8fad-4666-9a6f-9eb55c6f47ff",
   "metadata": {},
   "outputs": [
    {
     "name": "stdout",
     "output_type": "stream",
     "text": [
      "Uploaded Monday-WorkingHours.pcap_ISCX.csv to S3 bucket network-anomaly-dataset-001aefd6\n",
      "Uploaded Friday-WorkingHours-Afternoon-DDos.pcap_ISCX.csv to S3 bucket network-anomaly-dataset-001aefd6\n",
      "Uploaded Friday-WorkingHours-Afternoon-PortScan.pcap_ISCX.csv to S3 bucket network-anomaly-dataset-001aefd6\n",
      "Uploaded Thursday-WorkingHours-Morning-WebAttacks.pcap_ISCX.csv to S3 bucket network-anomaly-dataset-001aefd6\n",
      "Uploaded Thursday-WorkingHours-Afternoon-Infilteration.pcap_ISCX.csv to S3 bucket network-anomaly-dataset-001aefd6\n",
      "All selected files uploaded successfully (or attempted).\n"
     ]
    }
   ],
   "source": [
    "import boto3\n",
    "import os\n",
    "\n",
    "# Define your newly created S3 bucket name\n",
    "s3_bucket_name = \"network-anomaly-dataset-001aefd6\" \n",
    "\n",
    "# Define the local dataset folder path\n",
    "local_dataset_path = \"Datasets\"  \n",
    "\n",
    "# List of selected files to upload\n",
    "selected_files = [\n",
    "    \"Monday-WorkingHours.pcap_ISCX.csv\",\n",
    "    \"Friday-WorkingHours-Afternoon-DDos.pcap_ISCX.csv\",\n",
    "    \"Friday-WorkingHours-Afternoon-PortScan.pcap_ISCX.csv\",\n",
    "    \"Thursday-WorkingHours-Morning-WebAttacks.pcap_ISCX.csv\",\n",
    "    \"Thursday-WorkingHours-Afternoon-Infilteration.pcap_ISCX.csv\"\n",
    "]\n",
    "\n",
    "# Initialize S3 client\n",
    "s3 = boto3.client('s3')\n",
    "\n",
    "# Upload each selected CSV file to S3\n",
    "for file_name in selected_files:\n",
    "    file_path = os.path.join(local_dataset_path, file_name)\n",
    "    try:\n",
    "        s3.upload_file(file_path, s3_bucket_name, file_name)\n",
    "        print(f\"Uploaded {file_name} to S3 bucket {s3_bucket_name}\")\n",
    "    except Exception as e:\n",
    "        print(f\"Error uploading {file_name}: {e}\")\n",
    "\n",
    "print(\"All selected files uploaded successfully (or attempted).\")\n"
   ]
  },
  {
   "cell_type": "code",
   "execution_count": 23,
   "id": "68a1e449-76c7-4c34-afb9-38f58c0162cd",
   "metadata": {},
   "outputs": [
    {
     "name": "stdout",
     "output_type": "stream",
     "text": [
      "❌ File not found: Processed Datasets/processed_Monday-WorkingHours.pcap_ISCX.csv\n",
      "❌ File not found: Processed Datasets/processed_Friday-WorkingHours-Afternoon-DDos.pcap_ISCX.csv\n",
      "❌ File not found: Processed Datasets/processed_Friday-WorkingHours-Afternoon-PortScan.pcap_ISCX.csv\n",
      "❌ File not found: Processed Datasets/processed_Thursday-WorkingHours-Morning-WebAttacks.pcap_ISCX.csv\n",
      "❌ File not found: Processed Datasets/processed_Thursday-WorkingHours-Afternoon-Infilteration.pcap_ISCX.csv\n",
      "Upload process completed.\n"
     ]
    }
   ],
   "source": [
    "import boto3\n",
    "import os\n",
    "\n",
    "# Define S3 bucket name\n",
    "s3_bucket_name = \"network-anomaly-dataset-001aefd6\"\n",
    "\n",
    "# Correct local dataset path (use absolute path)\n",
    "local_dataset_path = \"Processed Datasets\"\n",
    "\n",
    "# List of processed files\n",
    "selected_files = [\n",
    "    \"processed_Monday-WorkingHours.pcap_ISCX.csv\",\n",
    "    \"processed_Friday-WorkingHours-Afternoon-DDos.pcap_ISCX.csv\",\n",
    "    \"processed_Friday-WorkingHours-Afternoon-PortScan.pcap_ISCX.csv\",\n",
    "    \"processed_Thursday-WorkingHours-Morning-WebAttacks.pcap_ISCX.csv\",\n",
    "    \"processed_Thursday-WorkingHours-Afternoon-Infilteration.pcap_ISCX.csv\"\n",
    "]\n",
    "\n",
    "# Initialize S3 client\n",
    "s3 = boto3.client('s3')\n",
    "\n",
    "# Upload each processed CSV file to S3\n",
    "for file_name in selected_files:\n",
    "    file_path = os.path.join(local_dataset_path, file_name)\n",
    "    \n",
    "    # Ensure file exists before uploading\n",
    "    if os.path.exists(file_path):\n",
    "        try:\n",
    "            s3.upload_file(file_path, s3_bucket_name, f\"Processed_Datasets/{file_name}\")\n",
    "            print(f\"✅ Uploaded {file_name} to S3 bucket {s3_bucket_name}\")\n",
    "        except Exception as e:\n",
    "            print(f\"❌ Error uploading {file_name}: {e}\")\n",
    "    else:\n",
    "        print(f\"❌ File not found: {file_path}\")\n",
    "\n",
    "print(\"Upload process completed.\")\n",
    "\n"
   ]
  },
  {
   "cell_type": "code",
   "execution_count": null,
   "id": "7175ab05-851c-4886-bca3-cd1b05bdd683",
   "metadata": {},
   "outputs": [],
   "source": []
  }
 ],
 "metadata": {
  "kernelspec": {
   "display_name": "Python 3 (ipykernel)",
   "language": "python",
   "name": "python3"
  },
  "language_info": {
   "codemirror_mode": {
    "name": "ipython",
    "version": 3
   },
   "file_extension": ".py",
   "mimetype": "text/x-python",
   "name": "python",
   "nbconvert_exporter": "python",
   "pygments_lexer": "ipython3",
   "version": "3.11.11"
  }
 },
 "nbformat": 4,
 "nbformat_minor": 5
}
